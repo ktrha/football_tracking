{
  "nbformat": 4,
  "nbformat_minor": 0,
  "metadata": {
    "colab": {
      "provenance": [],
      "gpuType": "T4",
      "mount_file_id": "1lCJRHVLMhyjvaf-KxOt5SeOwt1WFYlzQ",
      "authorship_tag": "ABX9TyP0t9TTDNYIb5OjsP53+1Bq",
      "include_colab_link": true
    },
    "kernelspec": {
      "name": "python3",
      "display_name": "Python 3"
    },
    "language_info": {
      "name": "python"
    },
    "gpuClass": "standard"
  },
  "cells": [
    {
      "cell_type": "markdown",
      "metadata": {
        "id": "view-in-github",
        "colab_type": "text"
      },
      "source": [
        "<a href=\"https://colab.research.google.com/github/ktrha/football_tracking/blob/main/mp4.ipynb\" target=\"_parent\"><img src=\"https://colab.research.google.com/assets/colab-badge.svg\" alt=\"Open In Colab\"/></a>"
      ]
    },
    {
      "cell_type": "code",
      "source": [
        "from google.colab import drive\n",
        "drive.mount('/content/drive')"
      ],
      "metadata": {
        "colab": {
          "base_uri": "https://localhost:8080/"
        },
        "id": "jumOD47kHlvS",
        "outputId": "3b15bf45-737d-40cc-9c18-3e9ab2f8b716"
      },
      "execution_count": null,
      "outputs": [
        {
          "output_type": "stream",
          "name": "stdout",
          "text": [
            "Drive already mounted at /content/drive; to attempt to forcibly remount, call drive.mount(\"/content/drive\", force_remount=True).\n"
          ]
        }
      ]
    },
    {
      "cell_type": "code",
      "source": [
        "pip install opencv-python Pillow"
      ],
      "metadata": {
        "colab": {
          "base_uri": "https://localhost:8080/"
        },
        "id": "yKWzFf0VWvc2",
        "outputId": "05f93bea-bdcd-48bc-806f-30e16f0c6970"
      },
      "execution_count": null,
      "outputs": [
        {
          "output_type": "stream",
          "name": "stdout",
          "text": [
            "Looking in indexes: https://pypi.org/simple, https://us-python.pkg.dev/colab-wheels/public/simple/\n",
            "Requirement already satisfied: opencv-python in /usr/local/lib/python3.10/dist-packages (4.7.0.72)\n",
            "Requirement already satisfied: Pillow in /usr/local/lib/python3.10/dist-packages (8.4.0)\n",
            "Requirement already satisfied: numpy>=1.21.2 in /usr/local/lib/python3.10/dist-packages (from opencv-python) (1.22.4)\n"
          ]
        }
      ]
    },
    {
      "cell_type": "code",
      "source": [
        "#mp4.py\n",
        "\n",
        "import glob\n",
        "\n",
        "import cv2\n",
        "\n",
        "import re\n",
        "\n",
        "def atoi(text):\n",
        "    return int(text) if text.isdigit() else text\n",
        "\n",
        "def natural_keys(text):\n",
        "    return [ atoi(c) for c in re.split(r'(\\d+)', text) ]\n",
        "\n",
        "img_array = []\n",
        "for filename in sorted(glob.glob(\"drive/MyDrive/Images/goal/camera05/*.png\"), key=natural_keys):\n",
        "    img = cv2.imread(filename)\n",
        "    height, width, layers = img.shape\n",
        "    size = (width, height)\n",
        "    img_array.append(img)\n",
        "\n",
        "name = 'drive/MyDrive/Output/goal/pro_camera05.mp4'\n",
        "out = cv2.VideoWriter(name, cv2.VideoWriter_fourcc(*'mp4v'), 5.0, size)\n",
        "\n",
        "for i in range(len(img_array)):\n",
        "    out.write(img_array[i])\n",
        "out.release()"
      ],
      "metadata": {
        "id": "IenZwC8wW3cF"
      },
      "execution_count": null,
      "outputs": []
    },
    {
      "cell_type": "code",
      "source": [
        "#speedup.py\n",
        "\n",
        "import cv2\n",
        "\n",
        "# 動画を読み込み、FPSを変更して別名で保存する関数\n",
        "def m_speed_change(path_in, path_out, scale_factor, color_flag):\n",
        "    # 動画読み込みの設定\n",
        "    movie = cv2.VideoCapture(path_in)\n",
        "\n",
        "    # 動画ファイル保存用の設定\n",
        "    fps = int(movie.get(cv2.CAP_PROP_FPS))                                  # 元動画のFPSを取得\n",
        "    fps_new = int(fps * scale_factor)                                       # 動画保存時のFPSはスケールファクターをかける\n",
        "    w = int(movie.get(cv2.CAP_PROP_FRAME_WIDTH))                            # 動画の横幅を取得\n",
        "    h = int(movie.get(cv2.CAP_PROP_FRAME_HEIGHT))                           # 動画の縦幅を取得\n",
        "    fourcc = cv2.VideoWriter_fourcc('m', 'p', '4', 'v')                     # 動画保存時のfourcc設定（mp4用）\n",
        "    video = cv2.VideoWriter(path_out, fourcc, fps_new, (w, h), color_flag)  # 動画の仕様（ファイル名、fourcc, FPS, サイズ）\n",
        "\n",
        "    # ファイルからフレームを1枚ずつ取得して動画処理後に保存する\n",
        "    while True:\n",
        "        ret, frame = movie.read()        # フレームを取得\n",
        "        video.write(frame)               # 動画を保存する\n",
        "        # フレームが取得できない場合はループを抜ける\n",
        "        if not ret:\n",
        "            break\n",
        "    # 撮影用オブジェクトとウィンドウの解放\n",
        "    movie.release()\n",
        "    return\n",
        "\n",
        "path_in = 'drive/MyDrive/Output/goal/pro_camera05.mp4'          # 元動画のパス #カメラの番号を変えるだけ\n",
        "path_out = 'drive/MyDrive/Speedup/goal/camera05_x6.mp4'      # 保存する動画のパス\n",
        "scale_factor = 6              # FPSにかけるスケールファクター\n",
        "color_flag = True               # カラー動画はTrue, グレースケール動画はFalse\n",
        "\n",
        "# 動画の再生速度を変更する関数を実行\n",
        "m_speed_change(path_in, path_out, scale_factor, color_flag)"
      ],
      "metadata": {
        "id": "UYSZGKjah0Fn"
      },
      "execution_count": null,
      "outputs": []
    },
    {
      "cell_type": "code",
      "source": [
        "ls -la"
      ],
      "metadata": {
        "colab": {
          "base_uri": "https://localhost:8080/"
        },
        "id": "rKVPFhiMYZU_",
        "outputId": "34a6a54a-548c-42b2-c8f0-3f95d74d2d80"
      },
      "execution_count": null,
      "outputs": [
        {
          "output_type": "stream",
          "name": "stdout",
          "text": [
            "total 52\n",
            "drwxr-xr-x 1 root root  4096 May  1 04:49 \u001b[0m\u001b[01;34m.\u001b[0m/\n",
            "drwxr-xr-x 1 root root  4096 May  1 03:04 \u001b[01;34m..\u001b[0m/\n",
            "drwxr-xr-x 4 root root  4096 Apr 27 13:34 \u001b[01;34m.config\u001b[0m/\n",
            "drwx------ 5 root root  4096 May  1 03:06 \u001b[01;34mdrive\u001b[0m/\n",
            "drwxr-xr-x 2 root root 20480 May  1 03:13 \u001b[01;34mimages\u001b[0m/\n",
            "drwxr-xr-x 6 root root  4096 May  1 04:50 \u001b[01;34mImages\u001b[0m/\n",
            "drwxr-xr-x 2 root root  4096 May  1 03:08 \u001b[01;34m.ipynb_checkpoints\u001b[0m/\n",
            "drwxr-xr-x 6 root root  4096 May  1 04:55 \u001b[01;34moutput\u001b[0m/\n",
            "drwxr-xr-x 1 root root  4096 Apr 27 13:35 \u001b[01;34msample_data\u001b[0m/\n"
          ]
        }
      ]
    },
    {
      "cell_type": "code",
      "source": [
        "import shutil\n",
        "shutil.rmtree('drive/MyDrive/Images/arc') #フォルダのパスを引数に渡す。"
      ],
      "metadata": {
        "id": "_FjhcU5vL0kb"
      },
      "execution_count": null,
      "outputs": []
    },
    {
      "cell_type": "code",
      "source": [
        "# フォルダの中身ごとフォルダを削除\n",
        "import shutil\n",
        "shutil.rmtree(\"drive/MyDrive/Images/goal/camera05\") #フォルダのパスを引数に渡す。"
      ],
      "metadata": {
        "id": "ROB9jl4PNd3h"
      },
      "execution_count": null,
      "outputs": []
    },
    {
      "cell_type": "code",
      "source": [
        "#フォルダを作成する(同名フォルダが存在する場合エラーになるので存在確認してから)\n",
        "import os\n",
        "folder_side = r\"drive/MyDrive/Images/goal/camera05\"\n",
        "\n",
        "if not os.path.exists(folder_side):\n",
        "  os.mkdir(folder_side)"
      ],
      "metadata": {
        "id": "vw7vlE_jMgNA"
      },
      "execution_count": null,
      "outputs": []
    }
  ]
}