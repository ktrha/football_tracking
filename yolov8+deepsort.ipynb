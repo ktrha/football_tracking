{
  "nbformat": 4,
  "nbformat_minor": 0,
  "metadata": {
    "colab": {
      "provenance": [],
      "gpuType": "T4",
      "authorship_tag": "ABX9TyPQgfeSvk0pTlTSVJWhx2qZ",
      "include_colab_link": true
    },
    "kernelspec": {
      "name": "python3",
      "display_name": "Python 3"
    },
    "language_info": {
      "name": "python"
    },
    "accelerator": "GPU"
  },
  "cells": [
    {
      "cell_type": "markdown",
      "metadata": {
        "id": "view-in-github",
        "colab_type": "text"
      },
      "source": [
        "<a href=\"https://colab.research.google.com/github/ktrha/football_tracking/blob/main/yolov8%2Bdeepsort.ipynb\" target=\"_parent\"><img src=\"https://colab.research.google.com/assets/colab-badge.svg\" alt=\"Open In Colab\"/></a>"
      ]
    },
    {
      "cell_type": "code",
      "source": [
        "from google.colab import drive\n",
        "drive.mount('/content/drive')"
      ],
      "metadata": {
        "id": "VO5mnvFgNkeq",
        "colab": {
          "base_uri": "https://localhost:8080/"
        },
        "outputId": "1e29ed63-d3c9-454d-ea64-1d6931a2dcb3"
      },
      "execution_count": null,
      "outputs": [
        {
          "output_type": "stream",
          "name": "stdout",
          "text": [
            "Mounted at /content/drive\n"
          ]
        }
      ]
    },
    {
      "cell_type": "code",
      "execution_count": null,
      "metadata": {
        "id": "caDofdCqTlN9",
        "colab": {
          "base_uri": "https://localhost:8080/"
        },
        "outputId": "a31d9e0b-4866-4f95-9584-fbfb473a6942"
      },
      "outputs": [
        {
          "output_type": "stream",
          "name": "stdout",
          "text": [
            "Cloning into 'YOLOv8-DeepSORT-Object-Tracking'...\n",
            "remote: Enumerating objects: 403, done.\u001b[K\n",
            "remote: Counting objects: 100% (33/33), done.\u001b[K\n",
            "remote: Compressing objects: 100% (14/14), done.\u001b[K\n",
            "remote: Total 403 (delta 21), reused 19 (delta 19), pack-reused 370\u001b[K\n",
            "Receiving objects: 100% (403/403), 77.99 MiB | 17.42 MiB/s, done.\n",
            "Resolving deltas: 100% (206/206), done.\n"
          ]
        }
      ],
      "source": [
        "!git clone https://github.com/MuhammadMoinFaisal/YOLOv8-DeepSORT-Object-Tracking.git"
      ]
    },
    {
      "cell_type": "code",
      "source": [
        "%cd /content/drive/MyDrive/YOLOv8-DeepSORT-Object-Tracking"
      ],
      "metadata": {
        "colab": {
          "base_uri": "https://localhost:8080/"
        },
        "id": "-CZZZ8Z7T6FM",
        "outputId": "fb0a1bdb-a859-4749-a509-3ca7580b7af1"
      },
      "execution_count": null,
      "outputs": [
        {
          "output_type": "stream",
          "name": "stdout",
          "text": [
            "/content/drive/MyDrive/YOLOv8-DeepSORT-Object-Tracking\n"
          ]
        }
      ]
    },
    {
      "cell_type": "code",
      "source": [
        "!pip install -e '.[dev]'"
      ],
      "metadata": {
        "id": "xZAdDWE6UCX6"
      },
      "execution_count": null,
      "outputs": []
    },
    {
      "cell_type": "code",
      "source": [
        "%cd /content/drive/MyDrive/YOLOv8-DeepSORT-Object-Tracking/ultralytics/yolo/v8/detect"
      ],
      "metadata": {
        "colab": {
          "base_uri": "https://localhost:8080/"
        },
        "id": "ACCRCZVDU8cm",
        "outputId": "5ed92102-9062-4237-e77d-e964717162d4"
      },
      "execution_count": null,
      "outputs": [
        {
          "output_type": "stream",
          "name": "stdout",
          "text": [
            "/content/drive/MyDrive/YOLOv8-DeepSORT-Object-Tracking/ultralytics/yolo/v8/detect\n"
          ]
        }
      ]
    },
    {
      "cell_type": "code",
      "source": [
        "!gdown \"https://drive.google.com/uc?id=11ZSZcG-bcbueXZC3rN08CM0qqX3eiHxf&confirm=t\""
      ],
      "metadata": {
        "colab": {
          "base_uri": "https://localhost:8080/"
        },
        "id": "wa7X9gIcVF8o",
        "outputId": "e9cd8eba-a160-4cdd-af31-8074f74e6021"
      },
      "execution_count": null,
      "outputs": [
        {
          "output_type": "stream",
          "name": "stdout",
          "text": [
            "Downloading...\n",
            "From: https://drive.google.com/uc?id=11ZSZcG-bcbueXZC3rN08CM0qqX3eiHxf&confirm=t\n",
            "To: /content/drive/MyDrive/YOLOv8-DeepSORT-Object-Tracking/ultralytics/yolo/v8/detect/deep_sort_pytorch.zip\n",
            "100% 43.1M/43.1M [00:01<00:00, 37.2MB/s]\n"
          ]
        }
      ]
    },
    {
      "cell_type": "code",
      "source": [
        "!unzip 'deep_sort_pytorch.zip'n"
      ],
      "metadata": {
        "id": "rPmUfbd-VIzW",
        "colab": {
          "base_uri": "https://localhost:8080/"
        },
        "outputId": "583cc85d-951f-45e4-972b-706120a7bf3b"
      },
      "execution_count": null,
      "outputs": [
        {
          "output_type": "stream",
          "name": "stdout",
          "text": [
            "Archive:  deep_sort_pytorch.zip\n",
            "replace deep_sort_pytorch/.gitignore? [y]es, [n]o, [A]ll, [N]one, [r]ename: n\n",
            "replace deep_sort_pytorch/configs/deep_sort.yaml? [y]es, [n]o, [A]ll, [N]one, [r]ename: "
          ]
        }
      ]
    },
    {
      "cell_type": "code",
      "source": [
        "pwd"
      ],
      "metadata": {
        "colab": {
          "base_uri": "https://localhost:8080/",
          "height": 35
        },
        "id": "V24V8O9bRkwI",
        "outputId": "18f73cea-0601-4d71-cc06-5f8b8d713a8c"
      },
      "execution_count": null,
      "outputs": [
        {
          "output_type": "execute_result",
          "data": {
            "text/plain": [
              "'/content/drive/MyDrive/YOLOv8-DeepSORT-Object-Tracking/ultralytics/yolo/v8/detect'"
            ],
            "application/vnd.google.colaboratory.intrinsic+json": {
              "type": "string"
            }
          },
          "metadata": {},
          "execution_count": 20
        }
      ]
    },
    {
      "cell_type": "code",
      "source": [
        "!python predict.py source=\"camera16_x6.mp4\""
      ],
      "metadata": {
        "id": "R3QoLcT1RuG4"
      },
      "execution_count": null,
      "outputs": []
    },
    {
      "cell_type": "code",
      "source": [
        "!python predict.py source=\"camera17_x6.mp4\""
      ],
      "metadata": {
        "id": "w6raDsL2s5NH"
      },
      "execution_count": null,
      "outputs": []
    },
    {
      "cell_type": "code",
      "source": [
        "# フォルダの中身ごとフォルダを削除\n",
        "import shutil\n",
        "shutil.rmtree(\"/content/drive/MyDrive/YOLOv8-DeepSORT-Object-Tracking/runs/detect/train16\") #フォルダのパスを引数に渡す。"
      ],
      "metadata": {
        "id": "8FgtGFGnOAzx"
      },
      "execution_count": null,
      "outputs": []
    },
    {
      "cell_type": "code",
      "source": [],
      "metadata": {
        "id": "QpQMACOVx7-I"
      },
      "execution_count": null,
      "outputs": []
    }
  ]
}